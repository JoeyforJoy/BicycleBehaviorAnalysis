{
 "cells": [
  {
   "cell_type": "markdown",
   "metadata": {},
   "source": [
    "# ImageDraw"
   ]
  },
  {
   "cell_type": "code",
   "execution_count": 23,
   "metadata": {},
   "outputs": [],
   "source": [
    "# 表达目标状态\n",
    "mask1 = Image.new(\"RGB\",img.size,\"rgb(0,128,128)\")\n",
    "img_mask1 = Image.blend(img,mask1,0.5)\n",
    "img_mask1.show()"
   ]
  },
  {
   "cell_type": "code",
   "execution_count": 35,
   "metadata": {},
   "outputs": [],
   "source": [
    "bbox.show()"
   ]
  },
  {
   "cell_type": "code",
   "execution_count": 34,
   "metadata": {},
   "outputs": [],
   "source": [
    "bbox = img_mask1.crop((0,0,500,500))"
   ]
  },
  {
   "cell_type": "markdown",
   "metadata": {},
   "source": [
    "# test plot_utils.py"
   ]
  },
  {
   "cell_type": "code",
   "execution_count": 1,
   "metadata": {},
   "outputs": [],
   "source": [
    "from utils.plot_utils import Canvas\n",
    "from PIL import Image,ImageDraw,ImageFont\n",
    "import numpy as np\n",
    "import matplotlib.pyplot as plt\n",
    "import matplotlib.font_manager as fm # to create font\n",
    "from yolo3_deepsort.deep_sort.track import MotionState,SecurityState,Track\n",
    "from utils.data_utils import Camera"
   ]
  },
  {
   "cell_type": "code",
   "execution_count": 2,
   "metadata": {},
   "outputs": [],
   "source": [
    "dir_path = \"/media/yxhuang/database/binocular_video/img/\"\n",
    "img_name = \"0_left.jpg\"\n",
    "img_path = dir_path + img_name\n",
    "\n",
    "img = Image.open(img_path)\n",
    "# img.show()"
   ]
  },
  {
   "cell_type": "code",
   "execution_count": 3,
   "metadata": {},
   "outputs": [],
   "source": [
    "scale = 100\n",
    "h = 9*scale\n",
    "w1 = 300 #信息区宽度\n",
    "w2 = 16*scale\n",
    "fontsize = 12\n",
    "font = ImageFont.truetype(fm.findfont(fm.FontProperties(family='DejaVu Sans')),fontsize)\n",
    "\n",
    "# 初始化\n",
    "canvas = Canvas(h=h,w1=w1,w2=w2,font=font,line_space=15)#创建画布\n",
    "# canvas.canvas.show()"
   ]
  },
  {
   "cell_type": "code",
   "execution_count": 4,
   "metadata": {},
   "outputs": [
    {
     "name": "stdout",
     "output_type": "stream",
     "text": [
      "[]\n",
      "[]\n"
     ]
    },
    {
     "name": "stderr",
     "output_type": "stream",
     "text": [
      "/home/yxhuang/anaconda3/envs/tf14/lib/python3.7/site-packages/numpy/core/fromnumeric.py:3335: RuntimeWarning: Mean of empty slice.\n",
      "  out=out, **kwargs)\n",
      "/home/yxhuang/anaconda3/envs/tf14/lib/python3.7/site-packages/numpy/core/_methods.py:161: RuntimeWarning: invalid value encountered in double_scalars\n",
      "  ret = ret.dtype.type(ret / rcount)\n"
     ]
    }
   ],
   "source": [
    "# 时间数据\n",
    "frame = 1\n",
    "unix_time = 1569700\n",
    "# 导入相机数据\n",
    "camera = Camera(XYZ=[0.1,0.2,0.3],direction=90)\n",
    "# 导入目标数据\n",
    "track1 = Track(mean=[5,5,0,0], covariance=1,track_id = 1,n_init=1,max_age=1)\n",
    "track2 = Track(mean=[1,2,3,4], covariance=1,track_id = 2,n_init=1,max_age=1)\n",
    "tracks = [track1,track2]\n",
    "\n",
    "canvas.update(img,frame,unix_time,camera,tracks=tracks)\n",
    "canvas.canvas.show()"
   ]
  },
  {
   "cell_type": "code",
   "execution_count": 6,
   "metadata": {},
   "outputs": [
    {
     "name": "stdout",
     "output_type": "stream",
     "text": [
      "[[1 2]\n",
      " [3 4]]\n"
     ]
    }
   ],
   "source": [
    "a= np.array([1,2,3,4])\n",
    "# a.resize(())\n",
    "a = np.resize(a,(2,2))\n",
    "print(a)"
   ]
  },
  {
   "cell_type": "code",
   "execution_count": 6,
   "metadata": {},
   "outputs": [
    {
     "data": {
      "text/plain": [
       "15"
      ]
     },
     "execution_count": 6,
     "metadata": {},
     "output_type": "execute_result"
    }
   ],
   "source": [
    "track1.montion_buffer"
   ]
  },
  {
   "cell_type": "code",
   "execution_count": 17,
   "metadata": {},
   "outputs": [
    {
     "data": {
      "text/plain": [
       "2"
      ]
     },
     "execution_count": 17,
     "metadata": {},
     "output_type": "execute_result"
    }
   ],
   "source": [
    "len(a)"
   ]
  },
  {
   "cell_type": "code",
   "execution_count": null,
   "metadata": {},
   "outputs": [],
   "source": []
  }
 ],
 "metadata": {
  "kernelspec": {
   "display_name": "Python 3",
   "language": "python",
   "name": "python3"
  },
  "language_info": {
   "codemirror_mode": {
    "name": "ipython",
    "version": 3
   },
   "file_extension": ".py",
   "mimetype": "text/x-python",
   "name": "python",
   "nbconvert_exporter": "python",
   "pygments_lexer": "ipython3",
   "version": "3.7.6"
  },
  "toc": {
   "base_numbering": 1,
   "nav_menu": {},
   "number_sections": true,
   "sideBar": true,
   "skip_h1_title": false,
   "title_cell": "Table of Contents",
   "title_sidebar": "Contents",
   "toc_cell": false,
   "toc_position": {
    "height": "calc(100% - 180px)",
    "left": "10px",
    "top": "150px",
    "width": "241.226px"
   },
   "toc_section_display": true,
   "toc_window_display": true
  }
 },
 "nbformat": 4,
 "nbformat_minor": 4
}
