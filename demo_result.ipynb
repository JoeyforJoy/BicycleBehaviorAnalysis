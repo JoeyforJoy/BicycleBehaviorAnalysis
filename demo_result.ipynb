{
 "cells": [
  {
   "cell_type": "code",
   "execution_count": 3,
   "metadata": {
    "scrolled": true
   },
   "outputs": [],
   "source": [
    "from __future__ import division, print_function, absolute_import\n",
    "import warnings\n",
    "warnings.filterwarnings('ignore')\n",
    "\n",
    "import matplotlib.pyplot as plt\n",
    "from mpl_toolkits.mplot3d import Axes3D\n",
    "import matplotlib.font_manager as fm # to create font\n",
    "import numpy as np\n",
    "import cv2\n",
    "import os\n",
    "import sys\n",
    "from math import *\n",
    "from PIL import Image,ImageFont\n",
    "from timeit import time\n",
    "\n",
    "# set config to initialize cudnn\n",
    "from tensorflow.compat.v1 import ConfigProto\n",
    "from tensorflow.compat.v1 import InteractiveSession\n",
    "config = ConfigProto()\n",
    "config.gpu_options.allow_growth = True\n",
    "session = InteractiveSession(config=config)\n",
    "\n",
    "from stereo_reconstruction import structure\n",
    "from stereo_reconstruction import processor\n",
    "from stereo_reconstruction.features import match_images\n",
    "\n",
    "from yolo3_deepsort.yolo import YOLO\n",
    "from yolo3_deepsort.deep_sort.detection import Detection\n",
    "from yolo3_deepsort.deep_sort.tracker import Tracker\n",
    "from yolo3_deepsort.deep_sort.track import MotionState,SecurityState\n",
    "from yolo3_deepsort.tools import generate_detections as gdet\n",
    "from yolo3_deepsort.deep_sort.detection import Detection as ddet\n",
    "import yolo3_deepsort.tools.box_filter as box_filter\n",
    "\n",
    "import json\n",
    "from utils.data_utils import load_frametime,load_fuseddata,Camera\n",
    "from utils.coord_utils import linear_interpolation,CSI\n",
    "from utils.coord_utils import computeVelocity,computeAcceleration\n",
    "from utils.plot_utils import draw_one_box as draw_box\n",
    "from utils.plot_utils import Canvas"
   ]
  },
  {
   "cell_type": "markdown",
   "metadata": {},
   "source": [
    "# Initialize"
   ]
  },
  {
   "cell_type": "code",
   "execution_count": 4,
   "metadata": {},
   "outputs": [
    {
     "name": "stdout",
     "output_type": "stream",
     "text": [
      "yolo3_deepsort/model_data/yolo_ori.h5 model, anchors, and classes loaded.\n",
      "WARNING:tensorflow:From /home/yxhuang/anaconda3/envs/tf14/lib/python3.7/site-packages/tensorflow/python/ops/array_ops.py:1354: add_dispatch_support.<locals>.wrapper (from tensorflow.python.ops.array_ops) is deprecated and will be removed in a future version.\n",
      "Instructions for updating:\n",
      "Use tf.where in 2.0, which has the same broadcast rule as np.where\n",
      "WARNING:tensorflow:From /media/yxhuang/doc/MyWorld/junote/ByicycleBehaviorAnalysis/yolo3_deepsort/tools/generate_detections.py:75: The name tf.Session is deprecated. Please use tf.compat.v1.Session instead.\n",
      "\n",
      "WARNING:tensorflow:From /media/yxhuang/doc/MyWorld/junote/ByicycleBehaviorAnalysis/yolo3_deepsort/tools/generate_detections.py:76: The name tf.gfile.GFile is deprecated. Please use tf.io.gfile.GFile instead.\n",
      "\n",
      "WARNING:tensorflow:From /media/yxhuang/doc/MyWorld/junote/ByicycleBehaviorAnalysis/yolo3_deepsort/tools/generate_detections.py:77: The name tf.GraphDef is deprecated. Please use tf.compat.v1.GraphDef instead.\n",
      "\n",
      "WARNING:tensorflow:From /media/yxhuang/doc/MyWorld/junote/ByicycleBehaviorAnalysis/yolo3_deepsort/tools/generate_detections.py:80: The name tf.get_default_graph is deprecated. Please use tf.compat.v1.get_default_graph instead.\n",
      "\n"
     ]
    }
   ],
   "source": [
    "# create yolov3 detector\n",
    "score_thre = 0.4\n",
    "iou_thre = 0.3\n",
    "yolo = YOLO(model_path = 'yolo3_deepsort/model_data/yolo_ori.h5',\n",
    "            classes_path = 'yolo3_deepsort/model_data/coco_classes.txt',\n",
    "            weights_only = True,\n",
    "            score = score_thre,\n",
    "            iou = iou_thre) # coco version\n",
    "# yolo = YOLO(model_path = 'yolo3_deepsort/model_data/trained_weights_coco.h5',\n",
    "#             classes_path = 'yolo3_deepsort/model_data/classes_name.txt',\n",
    "#             weights_only = True,\n",
    "#             score = score_thre,\n",
    "#             iou = iou_thre) # our version\n",
    "\n",
    "# create feature encoder\n",
    "model_filename = 'yolo3_deepsort/model_data/mars-small128.pb'\n",
    "encoder = gdet.create_box_encoder(model_filename,batch_size=1)\n",
    "\n",
    "# create tracker\n",
    "max_distance = 0.3\n",
    "lambda0 = 0.5# SORT(1),DeepSORT(0)\n",
    "nn_budget = None\n",
    "tracker = Tracker(metric_mode=\"combine\",max_cosine_distance=max_distance,\n",
    "                      lambda0 = lambda0,nn_budget=nn_budget)\n",
    "\n",
    "thickness = 150#边缘忽略区\n",
    "COI = ['person','bicycle','car','motorcycle','bus','train','truck']#感兴趣的类别\n",
    "\n",
    "scale = 80\n",
    "hh = 9*scale#窗口高度\n",
    "ww2 = 16*scale#图像区宽度\n",
    "ww1 = 350 #信息区宽度\n",
    "fontsize = 12\n",
    "font = ImageFont.truetype(fm.findfont(fm.FontProperties(family='DejaVu Sans')),fontsize)\n",
    "# 初始化\n",
    "canvas = Canvas(h=hh,w1=ww1,w2=ww2,font=font,line_space=15)#创建画布"
   ]
  },
  {
   "cell_type": "markdown",
   "metadata": {},
   "source": [
    "# Camera Infomation"
   ]
  },
  {
   "cell_type": "code",
   "execution_count": 5,
   "metadata": {},
   "outputs": [],
   "source": [
    "# read camera parameters\n",
    "\n",
    "work_path = \"/media/yxhuang/database/binocular_video/\"\n",
    "intrinsic_path = work_path + r'stereo_intrinsic.yml'\n",
    "extrinsic_path = work_path + r'stereo_extrinsic.yml'\n",
    "# intrinsic_path = r'G:\\binocular_video\\stereo_intrinsic.yml'\n",
    "# extrinsic_path = r'G:\\binocular_video\\stereo_extrinsic.yml'\n",
    "extrinsic_paras = cv2.FileStorage(extrinsic_path, cv2.FILE_STORAGE_READ)\n",
    "P1 = extrinsic_paras.getNode('P1').mat()\n",
    "P2 = extrinsic_paras.getNode('P2').mat()\n"
   ]
  },
  {
   "cell_type": "code",
   "execution_count": 6,
   "metadata": {},
   "outputs": [],
   "source": [
    "# motion infomation\n",
    "frame_time = load_frametime(\"/media/yxhuang/database/binocular_video/20191022_022500_time.txt\")\n",
    "fused_data = load_fuseddata(\"/media/yxhuang/database/binocular_video/fused_pose_planePoint_1022_022500.txt\")\n",
    "\n",
    "X = []; Y = []; Z = []; yaw = []\n",
    "ts = []; Rs = []\n",
    "# 插值运算\n",
    "for time in frame_time:\n",
    "    inter_data = linear_interpolation(fused_data,time)\n",
    "\n",
    "    tx = inter_data[\"x\"];ty = inter_data[\"y\"];tz = inter_data[\"z\"];\n",
    "    X.append(tx); Y.append(ty); Z.append(tz)\n",
    "    t = np.array([tx,ty,tz]).reshape(3,1)\n",
    "    ts.append(t);\n",
    "\n",
    "    r = inter_data[\"roll\"];p = inter_data[\"pitch\"];y = inter_data[\"yaw\"]-3*pi/2;\n",
    "    yaw.append(y)\n",
    "    \n",
    "    Rr = np.array([[1, 0,       0],\n",
    "                   [0, cos(r), -sin(r)],\n",
    "                   [0, sin(r),  cos(r)]]).reshape(3,3)\n",
    "    Rp = np.array([[cos(p), 0, sin(p)],\n",
    "                   [0,      1, 0     ],\n",
    "                   [-sin(p),0, cos(p)]]).reshape(3,3)\n",
    "    Ry = np.array([[cos(y), -sin(y), 0],\n",
    "                   [sin(y),  cos(y), 0],\n",
    "                   [0,       0,      1]]).reshape(3,3)\n",
    "\n",
    "    R = Rr@Rp@Ry\n",
    "    Rs.append(R)\n",
    "    \n",
    "X = np.array(X); Y = np.array(Y); Z = np.array(Z);\n",
    "T = np.array(frame_time)/1000\n",
    "yaw = np.array(yaw)*180/pi\n",
    "vx,vy,vz,v = computeVelocity(X,Y,Z,T)\n",
    "ax,ay,az,a = computeAcceleration(X,Y,Z,T)\n",
    "cur = CSI(X,Y)"
   ]
  },
  {
   "cell_type": "code",
   "execution_count": 14,
   "metadata": {},
   "outputs": [
    {
     "name": "stdout",
     "output_type": "stream",
     "text": [
      "93105269.61882856\n"
     ]
    },
    {
     "data": {
      "text/plain": [
       "Text(0, 0.5, 'Acceleration m/s2')"
      ]
     },
     "execution_count": 14,
     "metadata": {},
     "output_type": "execute_result"
    },
    {
     "data": {
      "image/png": "[encoded data removed]",
      "text/plain": [
       "<Figure size 576x576 with 1 Axes>"
      ]
     },
     "metadata": {
      "needs_background": "light"
     },
     "output_type": "display_data"
    }
   ],
   "source": [
    "from scipy.interpolate import splev, splrep\n",
    "import scipy.signal as signal\n",
    "\n",
    "var = a\n",
    "v_md = signal.medfilt(volume=var, kernel_size=11)\n",
    "\n",
    "ran = [0,100]\n",
    "var_md = v_md\n",
    "\n",
    "spl = splrep(range(len(var_md)), var_md,s=5)\n",
    "var_spl = splev(range(len(var_md)), spl)\n",
    "\n",
    "print(np.sum((var-var_spl)**2))\n",
    "plt.figure(figsize=(8,8))\n",
    "plt.plot(var[ran[0]:ran[1]],\"b\")\n",
    "plt.plot(var_md[ran[0]:ran[1]],\"g\")\n",
    "plt.plot(var_spl[ran[0]:ran[1]],\"r\")\n",
    "\n",
    "l = ['Origin',\"Median Filtering\",\"Spline Fitting\"]\n",
    "plt.legend(l)\n",
    "plt.title('The acceleration after different pocessing')\n",
    "plt.xlabel(\"Frame\")\n",
    "plt.ylabel(\"Acceleration m/s2\")"
   ]
  },
  {
   "cell_type": "markdown",
   "metadata": {},
   "source": [
    "# Tracking"
   ]
  },
  {
   "cell_type": "code",
   "execution_count": null,
   "metadata": {},
   "outputs": [],
   "source": [
    "# set video config\n",
    "\n",
    "# video_path = r\"G:\\binocular_video\\20191022_022500_video.h265\"\n",
    "video_path = \"/media/yxhuang/database/binocular_video/20191022_022500_video.h265\"\n",
    "cap = cv2.VideoCapture(video_path)\n",
    "w = int(cap.get(3))\n",
    "h = int(cap.get(4))\n",
    "fps = cap.get(5)\n",
    "\n",
    "write_flag = True\n",
    "if write_flag:\n",
    "    out = cv2.VideoWriter('result/track_with_info.avi',cv2.VideoWriter_fourcc(*'XVID'), \n",
    "                          fps, ((ww1+ww2),hh))\n",
    "fontsize = 25\n",
    "frame_num = 0 #当前帧数"
   ]
  },
  {
   "cell_type": "code",
   "execution_count": null,
   "metadata": {},
   "outputs": [],
   "source": [
    "while cap.isOpened():\n",
    "    # read video\n",
    "    ret,frame = cap.read()\n",
    "    frame_num += 1\n",
    "    if ret != True:\n",
    "        break# it's really really really important!!!\n",
    "        \n",
    "    frame_left = frame[:,:w//2,:]\n",
    "    frame_right = frame[:,w//2:,:]\n",
    "    img_left_pil = Image.fromarray(frame_left.copy()[...,::-1])\n",
    "    \n",
    "    # detection\n",
    "    boxes,classes,scores = yolo.detect_image(img_left_pil)\n",
    "    \n",
    "    # filter boxes\n",
    "    boxes, classes, scores = box_filter.remove_edge(boxes,classes,scores,thickness,(w//2,h))\n",
    "    boxes, classes, scores = box_filter.select_classes(boxes,classes,scores,COI)\n",
    "    boxes, classes, scores = box_filter.non_max_suppression(boxes,classes,scores,iou_thre)\n",
    "    \n",
    "    pts3D = []\n",
    "    distance = []\n",
    "    boxes = np.array(boxes)# easier to compute\n",
    "    for i,box in enumerate(boxes):\n",
    "        ret,search_patch,box_matched = match_images(frame_left,frame_right,box,offset=(-400,-40,0,40),\n",
    "                                       method = cv2.TM_CCOEFF_NORMED)# match two image\n",
    "        box_matched = np.array(box_matched)\n",
    "        pt2D_l = np.ones((3,1),dtype='float')#left center of box\n",
    "        pt2D_r = np.ones((3,1),dtype='float')#righr center of box\n",
    "        pt2D_l[:2,0] = box[:2] + box[2:]/2.\n",
    "        pt2D_r[:2,0] = (box_matched[:2] + box_matched[2:])/2.\n",
    "\n",
    "        # triangulation\n",
    "        pt3D = structure.linear_triangulation(pt2D_l,pt2D_r,P1,P2)#相对坐标(分米)\n",
    "        distance.append(np.sqrt(np.sum(pt3D[:3]**2))/10) #距离\n",
    "        pt3D = np.array([pt3D[2,0],-pt3D[0,0],-pt3D[1,0]]).reshape(3,1)/10 #坐标系变换\n",
    "        pt3D = Rs[frame_num-1] @ pt3D + ts[frame_num-1]#世界坐标系坐标\n",
    "        pts3D.append(pt3D)\n",
    "        \n",
    "    # encoder features\n",
    "    features = encoder(frame_left,boxes)\n",
    "    detections = []\n",
    "    for i,b in enumerate(boxes):\n",
    "        info_dict = {\"feature\":features[i],\"frame\":frame_num,\n",
    "                     \"time\":T[frame_num-1],\"distance\":distance[i],\n",
    "                     \"XYZ\":pts3D[i]}\n",
    "        det = Detection(b,scores[i],classes[i],info_dict=info_dict)\n",
    "        detections.append(det)\n",
    "    \n",
    "    # call the tracker\n",
    "    tracker.predict()\n",
    "    tracker.update(detections)\n",
    "    \n",
    "    # ==============可视化===============\n",
    "    # 绘制边框\n",
    "    img_left_draw = img_left_pil.copy()\n",
    "    \n",
    "    tracks = []\n",
    "    for i,track in enumerate(tracker.tracks):\n",
    "        if not track.is_confirmed() or track.time_since_update > 1:\n",
    "            continue\n",
    "        \n",
    "         # for coco version\n",
    "        if track.track_id in [3,5,146,226,244,250,257,362]:\n",
    "            continue\n",
    "        tracks.append(track)\n",
    "        \n",
    "        bbox = track.to_tlbr()\n",
    "        # property of the object\n",
    "        object_id = track.track_id\n",
    "        object_class = track.object_class\n",
    "        color = yolo.colors[yolo.class_names.index(object_class)]\n",
    "        # draw boxes\n",
    "        img_left_draw = draw_box(img_left_draw,bbox,object_id,object_class,color,\n",
    "                                 fontsize,track.security_state)\n",
    "    \n",
    "    # 相机的信息\n",
    "    camera = Camera(XYZ=[X[frame_num-1],Y[frame_num-1],Z[frame_num-1]],\n",
    "                    direction = yaw[frame_num-1],velocity=v[frame_num-1],\n",
    "                    acceleration = a[frame_num-1],curve=cur[frame_num-1],\n",
    "                    motion_state = MotionState.Pending)\n",
    "    canvas.update(img_left_draw,frame_num,T[frame_num-1],camera,tracks=tracks)#显示信息\n",
    "    cv2.imshow(\"demo\",np.array(canvas.canvas)[...,::-1])\n",
    "    \n",
    "    if write_flag:\n",
    "        out.write(np.array(canvas.canvas)[...,::-1])# save result\n",
    "    \n",
    "    if cv2.waitKey(1) & 0xFF == ord('q'):\n",
    "        break\n",
    "        \n",
    "if write_flag:\n",
    "    out.release()\n",
    "cap.release()\n",
    "cv2.destroyAllWindows()"
   ]
  },
  {
   "cell_type": "code",
   "execution_count": null,
   "metadata": {},
   "outputs": [],
   "source": []
  }
 ],
 "metadata": {
  "kernelspec": {
   "display_name": "Python 3",
   "language": "python",
   "name": "python3"
  },
  "language_info": {
   "codemirror_mode": {
    "name": "ipython",
    "version": 3
   },
   "file_extension": ".py",
   "mimetype": "text/x-python",
   "name": "python",
   "nbconvert_exporter": "python",
   "pygments_lexer": "ipython3",
   "version": "3.7.6"
  },
  "toc": {
   "base_numbering": 1,
   "nav_menu": {},
   "number_sections": true,
   "sideBar": true,
   "skip_h1_title": false,
   "title_cell": "Table of Contents",
   "title_sidebar": "Contents",
   "toc_cell": false,
   "toc_position": {
    "height": "calc(100% - 180px)",
    "left": "10px",
    "top": "150px",
    "width": "253.906px"
   },
   "toc_section_display": true,
   "toc_window_display": true
  }
 },
 "nbformat": 4,
 "nbformat_minor": 4
}
