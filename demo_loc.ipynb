{
 "cells": [
  {
   "cell_type": "code",
   "execution_count": 6,
   "metadata": {},
   "outputs": [],
   "source": [
    "from __future__ import division, print_function, absolute_import\n",
    "\n",
    "import matplotlib.pyplot as plt\n",
    "from mpl_toolkits.mplot3d import Axes3D\n",
    "import numpy as np\n",
    "import cv2\n",
    "import os\n",
    "import warnings\n",
    "import sys\n",
    "from PIL import Image\n",
    "from timeit import time\n",
    "\n",
    "from stereo_reconstruction import structure\n",
    "from stereo_reconstruction import processor\n",
    "from stereo_reconstruction.features import match_images\n",
    "\n",
    "from yolo3_deepsort.yolo import YOLO\n",
    "from yolo3_deepsort.deep_sort.detection import Detection\n",
    "from yolo3_deepsort.deep_sort.tracker import Tracker\n",
    "from yolo3_deepsort.tools import generate_detections as gdet\n",
    "from yolo3_deepsort.tools.plot_utils import draw_one_box as draw_box\n",
    "from yolo3_deepsort.deep_sort.detection import Detection as ddet\n",
    "warnings.filterwarnings('ignore')"
   ]
  },
  {
   "cell_type": "markdown",
   "metadata": {},
   "source": [
    "# Create Components"
   ]
  },
  {
   "cell_type": "code",
   "execution_count": 7,
   "metadata": {},
   "outputs": [
    {
     "name": "stdout",
     "output_type": "stream",
     "text": [
      "yolo3_deepsort/model_data/trained_weights_coco.h5 model, anchors, and classes loaded.\n"
     ]
    }
   ],
   "source": [
    "# create yolov3 detector\n",
    "# yolo = YOLO(model_path = 'yolo3_deepsort/model_data/yolo_ori.h5',\n",
    "#             classes_path = 'yolo3_deepsort/model_data/coco_classes.txt',\n",
    "#             weights_only = True,\n",
    "#             score = 0.3,\n",
    "#             iou = 0.5) # coco version\n",
    "yolo = YOLO(model_path = 'yolo3_deepsort/model_data/trained_weights_coco.h5',\n",
    "            classes_path = 'yolo3_deepsort/model_data/classes_name.txt',\n",
    "            weights_only = True,\n",
    "            score = 0.3,\n",
    "            iou = 0.5) # our version\n",
    "\n",
    "# create feature encoder\n",
    "model_filename = 'yolo3_deepsort/model_data/mars-small128.pb'\n",
    "encoder = gdet.create_box_encoder(model_filename,batch_size=1)\n",
    "\n",
    "# create tracker\n",
    "nms_max_overlap = 1.0\n",
    "max_distance = 0.3\n",
    "lambda0 = 0.1\n",
    "nn_budget = None\n",
    "tracker = Tracker(metric_mode=\"cosine\",max_cosine_distance=max_distance,\n",
    "                      lambda0 = lambda0,nn_budget=nn_budget)"
   ]
  },
  {
   "cell_type": "markdown",
   "metadata": {},
   "source": [
    "# Detection Tracking and Matching"
   ]
  },
  {
   "cell_type": "code",
   "execution_count": 5,
   "metadata": {},
   "outputs": [],
   "source": [
    "video_path = r\"G:\\binocular_video\\20191022_022500_video.h265\"\n",
    "cap = cv2.VideoCapture(video_path)\n",
    "w = int(cap.get(3))\n",
    "h = int(cap.get(4))\n",
    "fps = cap.get(5)\n",
    "\n",
    "out = cv2.VideoWriter('result\\output.avi',cv2.VideoWriter_fourcc(*'MJPG'), fps, (w//2,2*h))\n",
    "fontsize = 25\n",
    "\n",
    "while cap.isOpened():\n",
    "    # read video\n",
    "    ret,frame = cap.read()\n",
    "    \n",
    "#     h,w,_ = frame.shape\n",
    "    frame_left = frame[:,:w//2,:]\n",
    "    frame_right = frame[:,:w//2,:]\n",
    "    img_left_pil = Image.fromarray(frame_left.copy()[...,::-1])\n",
    "    img_right_pil = Image.fromarray(frame_right.copy()[...,::-1])\n",
    "    \n",
    "    # detection\n",
    "    boxes,classes,scores = yolo.detect_image(img_left_pil)\n",
    "    \n",
    "    # encoder features\n",
    "    features = encoder(frame_left,boxes)\n",
    "    detections = [Detection(bbox, score, feature,class_)\n",
    "                    for bbox,score,feature,class_ in zip(boxes,scores,features,classes)]\n",
    "    \n",
    "    # call the tracker\n",
    "    tracker.predict()\n",
    "    tracker.update(detections)\n",
    "    \n",
    "    # Visualize result\n",
    "    img_left_draw = img_left_pil.copy()\n",
    "    img_right_draw = img_right_pil.copy()\n",
    "    for i,track in enumerate(tracker.tracks):\n",
    "        if not track.is_confirmed() or track.time_since_update > 1:\n",
    "            continue\n",
    "        bbox = track.to_tlbr()\n",
    "        bbox_matched = match_images(frame_left,frame_right,bbox)# match two image\n",
    "        \n",
    "        # property of the object\n",
    "        object_id = track.track_id\n",
    "        object_class = track.object_class\n",
    "        color = yolo.colors[yolo.class_names.index(track.object_class)]\n",
    "        # draw boxes\n",
    "        img_left_draw = draw_box(img_left_draw,bbox,object_id,object_class,color,fontsize)\n",
    "        img_right_draw = draw_box(img_right_draw,bbox,object_id,object_class,color,fontsize)\n",
    "        \n",
    "    img_left_show = np.asarray(img_left_draw)\n",
    "    img_right_show = np.asarray(img_right_draw)\n",
    "    img_show = np.concatenate((img_left_show,img_right_show),axis = 0)\n",
    "    cv2.imshow('demo',cv2.resize(img_show[...,::-1],(int(w/2.5),int(h/1.5))))\n",
    "    \n",
    "    out.write(img_show[...,::-1])# save result\n",
    "    \n",
    "    if cv2.waitKey(1) & 0xFF == ord('q'):\n",
    "        break\n",
    "\n",
    "out.release()\n",
    "cap.release()\n",
    "cv2.destroyAllWindows()"
   ]
  },
  {
   "cell_type": "code",
   "execution_count": null,
   "metadata": {},
   "outputs": [],
   "source": []
  }
 ],
 "metadata": {
  "kernelspec": {
   "display_name": "Python 3",
   "language": "python",
   "name": "python3"
  },
  "language_info": {
   "codemirror_mode": {
    "name": "ipython",
    "version": 3
   },
   "file_extension": ".py",
   "mimetype": "text/x-python",
   "name": "python",
   "nbconvert_exporter": "python",
   "pygments_lexer": "ipython3",
   "version": "3.6.9"
  },
  "toc": {
   "base_numbering": 1,
   "nav_menu": {},
   "number_sections": true,
   "sideBar": true,
   "skip_h1_title": false,
   "title_cell": "Table of Contents",
   "title_sidebar": "Contents",
   "toc_cell": false,
   "toc_position": {},
   "toc_section_display": true,
   "toc_window_display": true
  }
 },
 "nbformat": 4,
 "nbformat_minor": 2
}
